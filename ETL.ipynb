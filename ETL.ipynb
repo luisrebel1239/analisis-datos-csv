{
 "cells": [
  {
   "cell_type": "code",
   "execution_count": null,
   "metadata": {},
   "outputs": [],
   "source": [
    "import pandas as pd\n",
    "import datetime as datetime\n",
    "import numpy as np\n",
    "import matplotlib.pyplot as plt\n",
    "import random\n"
   ]
  },
  {
   "cell_type": "code",
   "execution_count": null,
   "metadata": {},
   "outputs": [],
   "source": [
    "df = pd.read_csv('buss2.csv', sep=',')\n",
    "df.head()"
   ]
  },
  {
   "cell_type": "markdown",
   "metadata": {},
   "source": [
    "colores"
   ]
  },
  {
   "cell_type": "code",
   "execution_count": null,
   "metadata": {},
   "outputs": [],
   "source": [
    "colores = ['r', 'g', 'b', 'c', 'm', 'y', 'k', 'orange', 'purple',\n",
    "           'gray', 'brown', 'pink', 'lime', 'skyblue', 'gold', 'teal',\n",
    "           'navy', 'salmon', 'olive', 'indigo', 'peru', 'sienna', 'maroon',\n",
    "           'crimson', 'orchid', 'darkgreen', 'slategray', 'seagreen', 'tan',\n",
    "           'chocolate', 'coral', 'darkviolet', 'darkblue', 'darkorange']"
   ]
  },
  {
   "cell_type": "markdown",
   "metadata": {},
   "source": [
    "Numero total de registros\n",
    "describe (El método describe devuelve información estadística de los datos del dataframe o de la serie)"
   ]
  },
  {
   "cell_type": "code",
   "execution_count": null,
   "metadata": {},
   "outputs": [],
   "source": [
    "total_data = ['Route']\n",
    "df[total_data].describe()"
   ]
  },
  {
   "cell_type": "markdown",
   "metadata": {},
   "source": [
    "Agrupa los incidentes por ruta y cuenta el número de incidentes en cada una"
   ]
  },
  {
   "cell_type": "code",
   "execution_count": null,
   "metadata": {},
   "outputs": [],
   "source": [
    "incidentes_por_ruta = df.groupby('Route').size()\n",
    "incidentes_por_ruta = incidentes_por_ruta.sort_values(ascending=False)\n",
    "\n",
    "incidentes_por_ruta"
   ]
  },
  {
   "cell_type": "markdown",
   "metadata": {},
   "source": [
    "5 rtuas mas accidentadas"
   ]
  },
  {
   "cell_type": "code",
   "execution_count": null,
   "metadata": {},
   "outputs": [],
   "source": [
    "top_rutas = incidentes_por_ruta.head(5)\n",
    "top_rutas"
   ]
  },
  {
   "cell_type": "markdown",
   "metadata": {},
   "source": [
    "Agrupar los datos por operador y grupo, y cuenta la frecuencia de incidentes"
   ]
  },
  {
   "cell_type": "code",
   "execution_count": null,
   "metadata": {},
   "outputs": [],
   "source": [
    "incidentes_por_operador_grupo = df.groupby(['Operator', 'Group Name']).size().reset_index(name='Frequency')\n",
    "incidentes_por_operador_grupo"
   ]
  },
  {
   "cell_type": "markdown",
   "metadata": {},
   "source": [
    "Agrupar los datos por operador y grupo, y cuenta la frecuencia de incidentes de forma descendente\n"
   ]
  },
  {
   "cell_type": "code",
   "execution_count": null,
   "metadata": {},
   "outputs": [],
   "source": [
    "incidentes_por_operador_grupo = incidentes_por_operador_grupo.sort_values('Frequency', ascending=False)\n",
    "incidentes_por_operador_grupo"
   ]
  },
  {
   "cell_type": "markdown",
   "metadata": {},
   "source": []
  },
  {
   "cell_type": "code",
   "execution_count": null,
   "metadata": {},
   "outputs": [],
   "source": [
    "# Gráfico de barras\n",
    "plt.figure(figsize=(10, 6))\n",
    "colores_aleatorios = [random.choice(colores) for _ in range(len(incidentes_por_operador_grupo))]\n",
    "\n",
    "plt.bar(incidentes_por_operador_grupo['Operator'] + ' - ' + incidentes_por_operador_grupo['Group Name'],\n",
    "        incidentes_por_operador_grupo['Frequency'],color=colores_aleatorios)\n",
    "plt.xticks(rotation=90)\n",
    "plt.xlabel('Operador - Grupo')\n",
    "plt.ylabel('Frecuencia de Incidentes')\n",
    "plt.title('Análisis de Incidentes por Operador y Grupo')\n",
    "plt.show()"
   ]
  },
  {
   "cell_type": "markdown",
   "metadata": {},
   "source": [
    "Numero total de casos por Municipio"
   ]
  },
  {
   "cell_type": "code",
   "execution_count": null,
   "metadata": {},
   "outputs": [],
   "source": [
    "acc_muni = df[\"Borough\"].value_counts()\n",
    "acc_muni"
   ]
  },
  {
   "cell_type": "markdown",
   "metadata": {},
   "source": [
    "Municipio con mas accidentes registrados"
   ]
  },
  {
   "cell_type": "code",
   "execution_count": null,
   "metadata": {},
   "outputs": [],
   "source": [
    "maxIncident = acc_muni.max()\n",
    "nombre_muni = acc_muni.idxmax()\n",
    "maxIncident, nombre_muni"
   ]
  },
  {
   "cell_type": "markdown",
   "metadata": {},
   "source": [
    "Graficamos los municipios con accidentes "
   ]
  },
  {
   "cell_type": "code",
   "execution_count": null,
   "metadata": {},
   "outputs": [],
   "source": [
    "\n",
    "\n",
    "\n",
    "colores_aleatorios = [random.choice(colores) for _ in range(len(acc_muni))]\n",
    "acc_muni.plot(kind='bar', stacked=True,color=colores_aleatorios,),plt.gca().set_facecolor('white')\n",
    "plt.xlabel('Fecha del Incidente')\n",
    "plt.ylabel('Cantidad de Incidentes')\n",
    "plt.title('Incidentes por Tipo de Evento en la Fecha 01/06/2017')\n",
    "plt.legend(title='Tipo de Evento')\n",
    "plt.show()"
   ]
  },
  {
   "cell_type": "markdown",
   "metadata": {},
   "source": [
    "Graficamos los municipios con mas numero de accidentes\n"
   ]
  },
  {
   "cell_type": "code",
   "execution_count": null,
   "metadata": {},
   "outputs": [],
   "source": [
    "topFiveValues = acc_muni.nlargest(5)\n",
    "colores_aleatorios = [random.choice(colores) for _ in range(len(topFiveValues))]\n",
    "plt.bar(topFiveValues.index,topFiveValues.values,color=colores_aleatorios),plt.gca().set_facecolor('white')\n",
    "plt.xlabel(\"Municipio\")\n",
    "plt.ylabel(\" accidentes\")\n",
    "plt.title(\"5 con mayor accidentes\")\n",
    "plt.show()"
   ]
  },
  {
   "cell_type": "markdown",
   "metadata": {},
   "source": [
    "Municipios con menor numero de accidentes registrados"
   ]
  },
  {
   "cell_type": "code",
   "execution_count": null,
   "metadata": {},
   "outputs": [],
   "source": [
    "\n",
    "topFiveSmallValues = acc_muni.nsmallest(4)\n",
    "colores_aleatorios = [random.choice(colores) for _ in range(len(topFiveSmallValues))]\n",
    "plt.bar(topFiveSmallValues.index,topFiveSmallValues.values,color=colores_aleatorios),plt.gca().set_facecolor('white')\n",
    "plt.xlabel(\"Municipio\")\n",
    "plt.ylabel(\"accidentes\")\n",
    "plt.title(\"Municipios con menor accidentes\")\n",
    "plt.show()"
   ]
  },
  {
   "cell_type": "code",
   "execution_count": null,
   "metadata": {},
   "outputs": [],
   "source": [
    "#split de la columna de fecha, dia, mes y año\n",
    "\n",
    "fechas = df['Date Of Incident']\n",
    "#cambiar el formato de la fecha a dia, mes y año\n",
    "fechas = pd.to_datetime(fechas, format='%d/%m/%Y')\n",
    "fecha_nw = fechas.dt.strftime('%d/%m/%Y')\n",
    "fecha_nw\n",
    "#fechas"
   ]
  },
  {
   "cell_type": "code",
   "execution_count": null,
   "metadata": {},
   "outputs": [],
   "source": [
    "df9= df.loc[df['Date Of Incident'] == '01/06/2017']\n",
    "\n",
    "mes_accidentes = df9.groupby(['Year','Date Of Incident','Incident Event Type']).size().unstack()\n",
    "mes_accidentes"
   ]
  },
  {
   "cell_type": "markdown",
   "metadata": {},
   "source": [
    "selecciona el año que se quiera ver"
   ]
  },
  {
   "cell_type": "code",
   "execution_count": null,
   "metadata": {},
   "outputs": [],
   "source": [
    "año_filtrado = input(\"Ingrese el año que desea filtrar: \")\n",
    "\n",
    "\n",
    "año_filtrado = int(año_filtrado)\n",
    "anios = df[df['Year'] == año_filtrado]\n",
    "mes_accidentes = anios.groupby(['Year','Date Of Incident','Incident Event Type']).size().unstack()\n",
    "mes_accidentes\n"
   ]
  },
  {
   "cell_type": "markdown",
   "metadata": {},
   "source": [
    "filtrar por inidice"
   ]
  },
  {
   "cell_type": "code",
   "execution_count": null,
   "metadata": {},
   "outputs": [],
   "source": [
    "indice = input(\"Ingrese el nombre del índice que desea buscar: \")\n",
    "\n",
    "\n",
    "if indice not in df.columns:\n",
    "    print(\"El índice ingresado no existe. Por favor, escriba correctamente el nombre del índice.\")\n",
    "else:\n",
    "    \n",
    "    df_resumen = df.groupby(indice).size().reset_index(name='Incident Count')\n",
    "df_resumen"
   ]
  },
  {
   "cell_type": "markdown",
   "metadata": {},
   "source": [
    "Agrupación de incidentes por tipo de evento y resultado de lesiones"
   ]
  },
  {
   "cell_type": "code",
   "execution_count": null,
   "metadata": {},
   "outputs": [],
   "source": [
    "tabla_contingencia = pd.crosstab(df['Incident Event Type'], df['Injury Result Description'])\n",
    "\n",
    "\n",
    "tabla_contingencia"
   ]
  },
  {
   "cell_type": "markdown",
   "metadata": {},
   "source": [
    " Agrupar por \"Operator\" y calcular el número total de víctimas"
   ]
  },
  {
   "cell_type": "code",
   "execution_count": null,
   "metadata": {},
   "outputs": [],
   "source": [
    "\n",
    "resumen = df.groupby(['Operator', 'Year','Group Name']).size().reset_index(name='Count')\n",
    "resumen"
   ]
  },
  {
   "cell_type": "markdown",
   "metadata": {},
   "source": [
    "indices en aleatorio"
   ]
  },
  {
   "cell_type": "code",
   "execution_count": null,
   "metadata": {},
   "outputs": [],
   "source": [
    "df11 = df.sample(frac=1).reset_index(drop=True)\n",
    "df11.head()\n"
   ]
  },
  {
   "cell_type": "code",
   "execution_count": null,
   "metadata": {},
   "outputs": [],
   "source": [
    "\n",
    "def columnas(array):\n",
    "\n",
    "    rows = df[array]\n",
    "\n",
    "    return rows\n",
    "\n",
    "array = [\"Operator\",'Year']\n",
    "\n",
    "columnas(array)"
   ]
  },
  {
   "attachments": {},
   "cell_type": "markdown",
   "metadata": {},
   "source": [
    "tipos de accidentes por año y su grafica"
   ]
  },
  {
   "cell_type": "code",
   "execution_count": null,
   "metadata": {},
   "outputs": [],
   "source": [
    "df9= df.loc[df['Date Of Incident'] == '01/05/2017']\n",
    "\n",
    "\n",
    "\n",
    "mes_accidentes = df9.groupby(['Incident Event Type']).size()\n",
    "\n",
    "colores_aleatorios = [random.choice(colores) for _ in range(len(mes_accidentes))]\n",
    "mes_accidentes.plot(kind='bar', stacked=True,color=colores_aleatorios)\n",
    "plt.xlabel('Fecha del Incidente')\n",
    "plt.ylabel('Cantidad de Incidentes')\n",
    "plt.title('Incidentes por Tipo de Evento en la Fecha 01/06/2017')\n",
    "plt.legend(title='Tipo de Evento')\n",
    "plt.show()\n",
    "\n"
   ]
  },
  {
   "cell_type": "code",
   "execution_count": null,
   "metadata": {},
   "outputs": [],
   "source": [
    "\n",
    "#accidentes por año\n",
    "colores_aleatorios = [random.choice(colores) for _ in range(len('Year'))]\n",
    "df.groupby(['Year']).size().plot(kind='bar',stacked=True,legend=True,figsize=(20,10), color =colores_aleatorios)\n",
    "plt.show()\n"
   ]
  },
  {
   "cell_type": "code",
   "execution_count": null,
   "metadata": {},
   "outputs": [],
   "source": []
  }
 ],
 "metadata": {
  "kernelspec": {
   "display_name": "base",
   "language": "python",
   "name": "python3"
  },
  "language_info": {
   "codemirror_mode": {
    "name": "ipython",
    "version": 3
   },
   "file_extension": ".py",
   "mimetype": "text/x-python",
   "name": "python",
   "nbconvert_exporter": "python",
   "pygments_lexer": "ipython3",
   "version": "3.10.9"
  },
  "orig_nbformat": 4
 },
 "nbformat": 4,
 "nbformat_minor": 2
}
